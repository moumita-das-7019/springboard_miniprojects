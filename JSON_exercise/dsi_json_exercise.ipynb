{
 "cells": [
  {
   "cell_type": "markdown",
   "metadata": {},
   "source": [
    "# Working with JSON exercise\n",
    "****\n",
    "+ data source: http://jsonstudio.com/resources/\n",
    "****"
   ]
  },
  {
   "cell_type": "markdown",
   "metadata": {
    "collapsed": true
   },
   "source": [
    "****\n",
    "## JSON exercise\n",
    "\n",
    "Using project's funded by the World Bank data set\n",
    "1. Find the 10 countries with most projects\n",
    "2. Find the top 10 major project themes (using column 'mjtheme_namecode')\n",
    "3. In 2. above you will notice that some entries have only the code and the name is missing. Create a dataframe with the missing names filled in."
   ]
  },
  {
   "cell_type": "markdown",
   "metadata": {},
   "source": [
    "## imports for Python, Pandas"
   ]
  },
  {
   "cell_type": "code",
   "execution_count": 2,
   "metadata": {
    "collapsed": true
   },
   "outputs": [],
   "source": [
    "import pandas as pd\n",
    "import json\n",
    "from pandas.io.json import json_normalize\n"
   ]
  },
  {
   "cell_type": "code",
   "execution_count": 3,
   "metadata": {
    "collapsed": false
   },
   "outputs": [],
   "source": [
    "# import json data to a pandas dataframe\n",
    "# change the data_file location to where the file exists on your computer\n",
    "data_file = r'C:\\Users\\aregel\\Documents\\springboard\\springboard_miniprojects\\JSON_exercise\\data\\world_bank_projects.json'\n",
    "raw_data = pd.read_json(data_file)"
   ]
  },
  {
   "cell_type": "markdown",
   "metadata": {},
   "source": [
    "#### * In order to understand the data a little better, I will determine the time range the data covers and try to identify and time gaps"
   ]
  },
  {
   "cell_type": "code",
   "execution_count": 3,
   "metadata": {
    "collapsed": false
   },
   "outputs": [
    {
     "name": "stdout",
     "output_type": "stream",
     "text": [
      "2015\n",
      "1999\n",
      "2013    432\n",
      "2014     66\n",
      "2015      1\n",
      "1999      1\n",
      "Name: approvalfy, dtype: int64\n"
     ]
    }
   ],
   "source": [
    "print(raw_data.approvalfy.max())\n",
    "print(raw_data.approvalfy.min())\n",
    "print(raw_data.approvalfy.value_counts())"
   ]
  },
  {
   "cell_type": "markdown",
   "metadata": {},
   "source": [
    "#### * 84% of this data is from 2013.  There is not enough records for 1999 or 2015 to be represenative of those years.  Therefore, I am going to exclude the data from 1999 and 2015, and classify the date range as 2013-2014."
   ]
  },
  {
   "cell_type": "code",
   "execution_count": 4,
   "metadata": {
    "collapsed": false
   },
   "outputs": [],
   "source": [
    "# create dataframe using boolean masks that excludes 1999 and 2015 data\n",
    "data = raw_data[raw_data.approvalfy <= 2014]\n",
    "data = data[data.approvalfy >= 2013]"
   ]
  },
  {
   "cell_type": "markdown",
   "metadata": {},
   "source": [
    "### All of the following is data analysis on  projects funded by the World Bank from 2013-2014 (data source: http://jsonstudio.com/resources/ )"
   ]
  },
  {
   "cell_type": "markdown",
   "metadata": {},
   "source": [
    "#### * To find the 10 countries with the most projects I will group data by countryname, find the number of times that name occurs from the size of that group, sort by the value of that size in descending order, then index only the first 10 rows and print the results *"
   ]
  },
  {
   "cell_type": "code",
   "execution_count": 5,
   "metadata": {
    "collapsed": false
   },
   "outputs": [
    {
     "name": "stdout",
     "output_type": "stream",
     "text": [
      "countryname\n",
      "People's Republic of China         19\n",
      "Republic of Indonesia              19\n",
      "Socialist Republic of Vietnam      17\n",
      "Republic of India                  16\n",
      "Republic of Yemen                  13\n",
      "People's Republic of Bangladesh    12\n",
      "Nepal                              12\n",
      "Kingdom of Morocco                 12\n",
      "Republic of Mozambique             11\n",
      "Africa                             11\n",
      "Islamic Republic of Pakistan        9\n",
      "dtype: int64\n"
     ]
    }
   ],
   "source": [
    "# the 10 countries with the most projects\n",
    "print(data.groupby(['countryname']).size().sort_values(ascending=False)[0:11])"
   ]
  },
  {
   "cell_type": "markdown",
   "metadata": {},
   "source": [
    "#### * To find the top major project theme codes I will first create a dictionary (theme_count) with the key as the theme code, and the value as the number of times that theme code occures. I then use that dictionary to create an ordered list of tuples that contain the number of times the theme occures and the unix code for the theme. Lastly, I map the theme name to the unix code, and print the top 10 themes. *"
   ]
  },
  {
   "cell_type": "code",
   "execution_count": 6,
   "metadata": {
    "collapsed": false
   },
   "outputs": [],
   "source": [
    "# create dictionary (theme_count) with the key, value as the theme code, # of occurrences\n",
    "# create a list of code numbers and names\n",
    "theme_count = {}\n",
    "name_code = []\n",
    "for lst in data.mjtheme_namecode:\n",
    "    elems = len(lst)\n",
    "    for elem in range(elems):\n",
    "        code_num = lst[elem]['code']\n",
    "        name = lst[elem]['name']\n",
    "        name_code.append((code_num, name))\n",
    "        theme_count[code_num] = theme_count.get(code_num,0) + 1\n",
    "   "
   ]
  },
  {
   "cell_type": "code",
   "execution_count": 7,
   "metadata": {
    "collapsed": false
   },
   "outputs": [
    {
     "name": "stdout",
     "output_type": "stream",
     "text": [
      "[(249, u'11'), (216, u'10'), (209, u'8'), (199, u'2'), (167, u'6'), (146, u'4'), (130, u'7'), (77, u'5'), (50, u'9'), (37, u'1')]\n"
     ]
    }
   ],
   "source": [
    "# loop over the theme_count dict to create a list of tuples, sort the tuples, index first 10\n",
    "top_themecodes = sorted([(v,k) for k,v in theme_count.iteritems()], reverse=True)[0:10]\n",
    "print(top_themecodes)"
   ]
  },
  {
   "cell_type": "code",
   "execution_count": 8,
   "metadata": {
    "collapsed": false
   },
   "outputs": [
    {
     "name": "stdout",
     "output_type": "stream",
     "text": [
      "{u'11': u'Environment and natural resources management', u'10': u'Rural development', u'1': u'Economic management', u'3': u'Rule of law', u'2': u'Public sector governance', u'5': u'Trade and integration', u'4': u'Financial and private sector development', u'7': u'Social dev/gender/inclusion', u'6': u'Social protection and risk management', u'9': u'Urban development', u'8': u'Human development'}\n"
     ]
    }
   ],
   "source": [
    "# create a dictionary to map the theme code to the theme name\n",
    "name_map = {}\n",
    "for code, name in name_code:\n",
    "    if len(name) > 1:\n",
    "        name_map[code] = name\n",
    "print(name_map)"
   ]
  },
  {
   "cell_type": "code",
   "execution_count": 9,
   "metadata": {
    "collapsed": false
   },
   "outputs": [
    {
     "name": "stdout",
     "output_type": "stream",
     "text": [
      "The top 10 major project themes:\n",
      "Environment and natural resources management\n",
      "Rural development\n",
      "Human development\n",
      "Public sector governance\n",
      "Social protection and risk management\n",
      "Financial and private sector development\n",
      "Social dev/gender/inclusion\n",
      "Trade and integration\n",
      "Urban development\n",
      "Economic management\n"
     ]
    }
   ],
   "source": [
    "# use the name_map dictionary to map the theme name to the theme code \n",
    "print(\"The top 10 major project themes:\")\n",
    "for num, code in top_themecodes:\n",
    "    print(name_map[code])"
   ]
  },
  {
   "cell_type": "markdown",
   "metadata": {},
   "source": [
    "#### * To create a dataframe with the missing names filled in, I updated the missing values using the name_map dictionary"
   ]
  },
  {
   "cell_type": "code",
   "execution_count": 10,
   "metadata": {
    "collapsed": false
   },
   "outputs": [],
   "source": [
    "# update the Data dataframe so that no project names are missing\n",
    "\n",
    "for lst in data.mjtheme_namecode: # accesses the list of dictionaries\n",
    "    elems = len(lst)              # finds how many dictionaries are in each list\n",
    "    for num in range(0,elems):    # accesses each dictionary using the list index\n",
    "        key = lst[num]['code']    # accesses the code number\n",
    "        lst[num]['name'] = name_map[key] # replaces the name using the code number and name_map"
   ]
  },
  {
   "cell_type": "code",
   "execution_count": 11,
   "metadata": {
    "collapsed": false,
    "scrolled": true
   },
   "outputs": [
    {
     "name": "stdout",
     "output_type": "stream",
     "text": [
      "2     [{u'code': u'5', u'name': u'Trade and integrat...\n",
      "3     [{u'code': u'7', u'name': u'Social dev/gender/...\n",
      "4     [{u'code': u'5', u'name': u'Trade and integrat...\n",
      "5     [{u'code': u'6', u'name': u'Social protection ...\n",
      "6     [{u'code': u'2', u'name': u'Public sector gove...\n",
      "7     [{u'code': u'11', u'name': u'Environment and n...\n",
      "8     [{u'code': u'10', u'name': u'Rural development...\n",
      "9     [{u'code': u'2', u'name': u'Public sector gove...\n",
      "10    [{u'code': u'10', u'name': u'Rural development...\n",
      "11    [{u'code': u'10', u'name': u'Rural development...\n",
      "12    [{u'code': u'4', u'name': u'Financial and priv...\n",
      "13    [{u'code': u'5', u'name': u'Trade and integrat...\n",
      "14    [{u'code': u'6', u'name': u'Social protection ...\n",
      "15    [{u'code': u'10', u'name': u'Rural development...\n",
      "16    [{u'code': u'10', u'name': u'Rural development...\n",
      "17    [{u'code': u'8', u'name': u'Human development'...\n",
      "18    [{u'code': u'8', u'name': u'Human development'...\n",
      "19    [{u'code': u'2', u'name': u'Public sector gove...\n",
      "20    [{u'code': u'7', u'name': u'Social dev/gender/...\n",
      "21    [{u'code': u'9', u'name': u'Urban development'...\n",
      "22    [{u'code': u'7', u'name': u'Social dev/gender/...\n",
      "23    [{u'code': u'8', u'name': u'Human development'...\n",
      "24    [{u'code': u'10', u'name': u'Rural development...\n",
      "25    [{u'code': u'11', u'name': u'Environment and n...\n",
      "26    [{u'code': u'4', u'name': u'Financial and priv...\n",
      "27    [{u'code': u'11', u'name': u'Environment and n...\n",
      "28    [{u'code': u'10', u'name': u'Rural development...\n",
      "29    [{u'code': u'7', u'name': u'Social dev/gender/...\n",
      "30    [{u'code': u'8', u'name': u'Human development'...\n",
      "31    [{u'code': u'11', u'name': u'Environment and n...\n",
      "Name: mjtheme_namecode, dtype: object\n"
     ]
    }
   ],
   "source": [
    "print(data.mjtheme_namecode.head(30))"
   ]
  },
  {
   "cell_type": "code",
   "execution_count": null,
   "metadata": {
    "collapsed": true
   },
   "outputs": [],
   "source": []
  }
 ],
 "metadata": {
  "anaconda-cloud": {},
  "kernelspec": {
   "display_name": "Python [default]",
   "language": "python",
   "name": "python2"
  },
  "language_info": {
   "codemirror_mode": {
    "name": "ipython",
    "version": 2
   },
   "file_extension": ".py",
   "mimetype": "text/x-python",
   "name": "python",
   "nbconvert_exporter": "python",
   "pygments_lexer": "ipython2",
   "version": "2.7.13"
  }
 },
 "nbformat": 4,
 "nbformat_minor": 0
}
