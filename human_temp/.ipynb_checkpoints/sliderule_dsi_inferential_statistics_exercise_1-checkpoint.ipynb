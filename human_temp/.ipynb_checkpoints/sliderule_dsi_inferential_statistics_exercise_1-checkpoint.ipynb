{
 "cells": [
  {
   "cell_type": "markdown",
   "metadata": {},
   "source": [
    "# What is the True Normal Human Body Temperature? \n",
    "\n",
    "#### Background\n",
    "\n",
    "The mean normal body temperature was held to be 37$^{\\circ}$C or 98.6$^{\\circ}$F for more than 120 years since it was first conceptualized and reported by Carl Wunderlich in a famous 1868 book. But, is this value statistically correct?"
   ]
  },
  {
   "cell_type": "markdown",
   "metadata": {},
   "source": [
    "<h3>Exercises</h3>\n",
    "\n",
    "<p>In this exercise, you will analyze a dataset of human body temperatures and employ the concepts of hypothesis testing, confidence intervals, and statistical significance.</p>\n",
    "\n",
    "<p>Answer the following questions <b>in this notebook below and submit to your Github account</b>.</p> \n",
    "\n",
    "<ol>\n",
    "<li>  Is the distribution of body temperatures normal? \n",
    "    <ul>\n",
    "    <li> Although this is not a requirement for CLT to hold (read CLT carefully), it gives us some peace of mind that the population may also be normally distributed if we assume that this sample is representative of the population.\n",
    "    </ul>\n",
    "<li>  Is the sample size large? Are the observations independent?\n",
    "    <ul>\n",
    "    <li> Remember that this is a condition for the CLT, and hence the statistical tests we are using, to apply.\n",
    "    </ul>\n",
    "<li>  Is the true population mean really 98.6 degrees F?\n",
    "    <ul>\n",
    "    <li> Would you use a one-sample or two-sample test? Why?\n",
    "    <li> In this situation, is it appropriate to use the $t$ or $z$ statistic? \n",
    "    <li> Now try using the other test. How is the result be different? Why?\n",
    "    </ul>\n",
    "<li>  At what temperature should we consider someone's temperature to be \"abnormal\"?\n",
    "    <ul>\n",
    "    <li> Start by computing the margin of error and confidence interval.\n",
    "    </ul>\n",
    "<li>  Is there a significant difference between males and females in normal temperature?\n",
    "    <ul>\n",
    "    <li> What test did you use and why?\n",
    "    <li> Write a story with your conclusion in the context of the original problem.\n",
    "    </ul>\n",
    "</ol>\n",
    "\n",
    "You can include written notes in notebook cells using Markdown: \n",
    "   - In the control panel at the top, choose Cell > Cell Type > Markdown\n",
    "   - Markdown syntax: http://nestacms.com/docs/creating-content/markdown-cheat-sheet\n",
    "\n",
    "#### Resources\n",
    "\n",
    "+ Information and data sources: http://www.amstat.org/publications/jse/datasets/normtemp.txt, http://www.amstat.org/publications/jse/jse_data_archive.htm\n",
    "+ Markdown syntax: http://nestacms.com/docs/creating-content/markdown-cheat-sheet\n",
    "\n",
    "****\n"
   ]
  },
  {
   "cell_type": "code",
   "execution_count": 1,
   "metadata": {},
   "outputs": [],
   "source": [
    "import pandas as pd\n",
    "\n",
    "df = pd.read_csv('data/human_body_temperature.csv')"
   ]
  },
  {
   "cell_type": "code",
   "execution_count": 2,
   "metadata": {},
   "outputs": [
    {
     "data": {
      "text/html": [
       "<div>\n",
       "<style>\n",
       "    .dataframe thead tr:only-child th {\n",
       "        text-align: right;\n",
       "    }\n",
       "\n",
       "    .dataframe thead th {\n",
       "        text-align: left;\n",
       "    }\n",
       "\n",
       "    .dataframe tbody tr th {\n",
       "        vertical-align: top;\n",
       "    }\n",
       "</style>\n",
       "<table border=\"1\" class=\"dataframe\">\n",
       "  <thead>\n",
       "    <tr style=\"text-align: right;\">\n",
       "      <th></th>\n",
       "      <th>temperature</th>\n",
       "      <th>gender</th>\n",
       "      <th>heart_rate</th>\n",
       "    </tr>\n",
       "  </thead>\n",
       "  <tbody>\n",
       "    <tr>\n",
       "      <th>0</th>\n",
       "      <td>99.3</td>\n",
       "      <td>F</td>\n",
       "      <td>68.0</td>\n",
       "    </tr>\n",
       "    <tr>\n",
       "      <th>1</th>\n",
       "      <td>98.4</td>\n",
       "      <td>F</td>\n",
       "      <td>81.0</td>\n",
       "    </tr>\n",
       "    <tr>\n",
       "      <th>2</th>\n",
       "      <td>97.8</td>\n",
       "      <td>M</td>\n",
       "      <td>73.0</td>\n",
       "    </tr>\n",
       "    <tr>\n",
       "      <th>3</th>\n",
       "      <td>99.2</td>\n",
       "      <td>F</td>\n",
       "      <td>66.0</td>\n",
       "    </tr>\n",
       "    <tr>\n",
       "      <th>4</th>\n",
       "      <td>98.0</td>\n",
       "      <td>F</td>\n",
       "      <td>73.0</td>\n",
       "    </tr>\n",
       "  </tbody>\n",
       "</table>\n",
       "</div>"
      ],
      "text/plain": [
       "   temperature gender  heart_rate\n",
       "0         99.3      F        68.0\n",
       "1         98.4      F        81.0\n",
       "2         97.8      M        73.0\n",
       "3         99.2      F        66.0\n",
       "4         98.0      F        73.0"
      ]
     },
     "execution_count": 2,
     "metadata": {},
     "output_type": "execute_result"
    }
   ],
   "source": [
    "df.head()"
   ]
  },
  {
   "cell_type": "code",
   "execution_count": 3,
   "metadata": {},
   "outputs": [],
   "source": [
    "# Your work here.\n",
    "# other imports\n",
    "import matplotlib.pyplot as plt\n",
    "import numpy as np\n",
    "import seaborn as sns\n",
    "% matplotlib inline\n",
    "plt.style.use('seaborn-pastel')"
   ]
  },
  {
   "cell_type": "markdown",
   "metadata": {},
   "source": [
    "### Using a histogram, the distribution of temperature can be visualized.  The temperature's significant to the tenths place with a  range of 5 degrees.  I chose a bin size to be 25 so that each temperature is represented in 0.2 increments.  "
   ]
  },
  {
   "cell_type": "code",
   "execution_count": 4,
   "metadata": {},
   "outputs": [
    {
     "data": {
      "text/plain": [
       "<matplotlib.text.Text at 0xc822710>"
      ]
     },
     "execution_count": 4,
     "metadata": {},
     "output_type": "execute_result"
    },
    {
     "data": {
      "image/png": "[encoded data removed]",
      "text/plain": [
       "<matplotlib.figure.Figure at 0xc7e74e0>"
      ]
     },
     "metadata": {},
     "output_type": "display_data"
    }
   ],
   "source": [
    "# create histogram with matplotlib\n",
    "plt.hist(df.temperature, color = 'teal', bins = 25 , label='Body Temperature')\n",
    "plt.xlabel('Body Temperature')\n",
    "plt.ylabel('Frequency')"
   ]
  },
  {
   "cell_type": "markdown",
   "metadata": {},
   "source": [
    "### The visualization shows an approximately Gaussian shape, but the data has some value gaps in it.  This may be due to the number of samples taken.  The absolute number of samples is large. However, the samples represent a very small percentage of the actual population, which will amplify any sampling bias.\n",
    "### It is reasonable to assume that samples are independent, as humans are mammals that regulate temperature internally."
   ]
  },
  {
   "cell_type": "markdown",
   "metadata": {},
   "source": [
    "## To determine if 98.6 is the true population mean temperature I will perform a hypothesis test. "
   ]
  },
  {
   "cell_type": "markdown",
   "metadata": {},
   "source": [
    "#### I will use a one-sample, two-tailed, t-test because I am comparing sample data to a fixed value, and I don't know the population standard deviation.\n",
    "#### My hypothesis is comparing 1) The variation in the sample mean is due to random variation, and getting a sample mean of 98.3 is reasonable  2)  The variation in the sample mean is due to a real difference in the underlying population and the sample mean is  NOT equal to 98.6\n",
    "#### H0: x(data) = 98.6\n",
    "#### Ha: x(data) != 98.6\n",
    "#### Decision criteria: If the probability of observing a sample mean of 98.6 is less than 5%(alpha = 0.05) likely according to the z-test statistic, then I will reject the null hypothesis"
   ]
  },
  {
   "cell_type": "code",
   "execution_count": 5,
   "metadata": {
    "scrolled": true
   },
   "outputs": [
    {
     "name": "stdout",
     "output_type": "stream",
     "text": [
      "The degrees of freedom are 129\n"
     ]
    }
   ],
   "source": [
    "# calculate the degrees of freedom (n -1)\n",
    "deg_of_freedom = 130 - 1\n",
    "print('The degrees of freedom are ' + str(deg_of_freedom))"
   ]
  },
  {
   "cell_type": "markdown",
   "metadata": {},
   "source": [
    "##### determine the critical value for a two-tailed t-test with 95% confidence\n",
    "###### Using an online (https://www.danielsoper.com/statcalc/calculator.aspx?id=10) calculator, the critical value is +/- 1.979 , so if the t-test statistic is less than -1.979 or greater than 1.979 I will reject the null hypothesis"
   ]
  },
  {
   "cell_type": "code",
   "execution_count": 6,
   "metadata": {},
   "outputs": [
    {
     "name": "stdout",
     "output_type": "stream",
     "text": [
      "The t-test statistic is -5.47592520208\n"
     ]
    }
   ],
   "source": [
    "# calculate the t-test statistic (sample_mean - population_mean/(sample_std/sqrt(n)))\n",
    "sample_mean = np.mean(df.temperature)\n",
    "population_mean = 98.6\n",
    "sample_std = np.std(df.temperature)\n",
    "n_sqrt = np.sqrt(130)\n",
    "test_stat = np.divide(sample_mean-population_mean, sample_std/n_sqrt)\n",
    "print('The t-test statistic is ' + str(test_stat))"
   ]
  },
  {
   "cell_type": "markdown",
   "metadata": {},
   "source": [
    "### According to the decision criteria, I must reject the null hypothesis.  There is, in fact, a significant difference in the sample mean from the accepted population mean."
   ]
  },
  {
   "cell_type": "markdown",
   "metadata": {},
   "source": [
    "#### I could have choose to use the z-test, because of the large number of samples. The critical value for the Z-test with an alpha=0.5 (according to a z-table) is ±1.96.  The z-test statistic is the same as the t-test statistic, -5.48. Thus, using the Z-test I will also reject the null hypothesis."
   ]
  },
  {
   "cell_type": "markdown",
   "metadata": {},
   "source": [
    "#### To determine what temperature range is normal, or to put it a different way, what temperature range is due to random chance, I can calculate the margin of error and confidence interval."
   ]
  },
  {
   "cell_type": "code",
   "execution_count": 7,
   "metadata": {},
   "outputs": [
    {
     "name": "stdout",
     "output_type": "stream",
     "text": [
      "The margin of error is 0.126832097096 and the confidence interval is 98.1223986721-98.3760628663\n"
     ]
    }
   ],
   "source": [
    "# calculate the margin of error of the sample\n",
    "moe = 1.98*(sample_std/n_sqrt)\n",
    "# calculate the confidence interval of the sample mean\n",
    "temp_CI=(sample_mean - moe, sample_mean + moe) \n",
    "print('The margin of error is ' + str(moe) + ' and the confidence interval is ' + str(temp_CI[0]) + '-'+ str(temp_CI[1]))"
   ]
  },
  {
   "cell_type": "markdown",
   "metadata": {},
   "source": [
    "#### Using the information calculated above, temperatures lower than 98.1 and higher than 98.4 would be unlikley considering the sample data"
   ]
  },
  {
   "cell_type": "markdown",
   "metadata": {},
   "source": [
    "### Earilier I made the assumption that every sample was independent.  However, the gender of the person may affect the temperature. I will use hypothsis testing to determine if the female mean temperature is different from the male mean temperature using the sample data."
   ]
  },
  {
   "cell_type": "markdown",
   "metadata": {},
   "source": [
    "#### The first step is to separate the male and female samples to determine if there is any difference in their means"
   ]
  },
  {
   "cell_type": "code",
   "execution_count": 8,
   "metadata": {},
   "outputs": [
    {
     "name": "stdout",
     "output_type": "stream",
     "text": [
      "('The mean of male samples are 98.1046153846', 'the mean of the female samples are 98.3938461538')\n"
     ]
    }
   ],
   "source": [
    "# separate male and female samples\n",
    "male = df.temperature[df.gender == 'M']\n",
    "female = df.temperature[df.gender == 'F']\n",
    "\n",
    "# determine the mean of each\n",
    "male_mean = np.mean(male)\n",
    "female_mean = np.mean(female)\n",
    "print('The mean of male samples are ' + str(male_mean), 'the mean of the female samples are '+ str(female_mean))"
   ]
  },
  {
   "cell_type": "markdown",
   "metadata": {},
   "source": [
    "#### Based on the above information, there does seem to be difference between the male and female mean. However, that difference may be due to random chance. In order to determine if the difference is statistically significant, I will use a two-sample bootstrap hypothesis test for difference of means."
   ]
  },
  {
   "cell_type": "markdown",
   "metadata": {},
   "source": [
    "##### Null Hypothesis: There is no difference between male and female mean temperature\n",
    "##### mean_men - mean_female = 0\n",
    "##### Alternative Hypothesis: There is a difference between male and female mean temperature\n",
    "##### mean_men - mean_female != 0\n",
    "##### *Decision criteria: If the probability of observing no difference in means is less than 5%(alpha = 0.05) likely then I will reject the null hypothesis*"
   ]
  },
  {
   "cell_type": "markdown",
   "metadata": {},
   "source": [
    "###### The assumption of the null hypothesis is that the male and female means are the same, so the first step is to shift both data sets so that they have the same mean as the combined dataset"
   ]
  },
  {
   "cell_type": "code",
   "execution_count": 9,
   "metadata": {},
   "outputs": [],
   "source": [
    "# determine the mean of the combined dataset\n",
    "comb_mean = np.mean(df.temperature)\n",
    "# shift each gender dataset to the combined mean dataset\n",
    "shifted_female = female - female_mean + comb_mean\n",
    "shifted_male = male - male_mean + comb_mean"
   ]
  },
  {
   "cell_type": "markdown",
   "metadata": {},
   "source": [
    "###### The next step is to draw 10,000 bootstrap mean replicates out of the shifted arrays and compute the difference in means."
   ]
  },
  {
   "cell_type": "code",
   "execution_count": 10,
   "metadata": {},
   "outputs": [],
   "source": [
    "# create a function that draws bootstrap replicates\n",
    "def draw_bs_reps(data, func, size=1):\n",
    "    \"\"\"Draw bootstrap replicates.\"\"\"\n",
    "\n",
    "    # Initialize array of replicates: bs_replicates\n",
    "    bs_replicates = np.empty(size)\n",
    "\n",
    "    # Generate replicates\n",
    "    for i in range(size):\n",
    "        bs_replicates[i] = func(np.random.choice(data, size=len(data)))\n",
    "\n",
    "    return bs_replicates"
   ]
  },
  {
   "cell_type": "code",
   "execution_count": 11,
   "metadata": {},
   "outputs": [],
   "source": [
    "# draw 10,000 bootstrap samples from each shifted dateset and calculate each sample mean\n",
    "male_mean_replicates = draw_bs_reps(shifted_male, np.mean, size= 10000)\n",
    "female_mean_replicates = draw_bs_reps(shifted_female, np.mean, size= 10000)"
   ]
  },
  {
   "cell_type": "code",
   "execution_count": 18,
   "metadata": {},
   "outputs": [],
   "source": [
    "# generate replicates of the difference of means\n",
    "simulated_mean_diff = male_mean_replicates - female_mean_replicates"
   ]
  },
  {
   "cell_type": "markdown",
   "metadata": {},
   "source": [
    "#### Determine the probablitity of finding emperical difference of means for male and female body temperatrures, that are the same (or more extreme) then our simulated results when the null hypothesis (H0) is true.  This is also called the p-value."
   ]
  },
  {
   "cell_type": "code",
   "execution_count": 29,
   "metadata": {},
   "outputs": [
    {
     "name": "stdout",
     "output_type": "stream",
     "text": [
      "('p-value = ', 0.98829999999999996)\n"
     ]
    }
   ],
   "source": [
    "# compute the fraction of replicates with a difference in means greater than or equal to the emperical mean\n",
    "emperical_mean_diff = male_mean - female_mean\n",
    "p = np.sum(simulated_mean_diff >= emperical_mean_diff)/ 10000.0\n",
    "print('p-value = ', p)"
   ]
  },
  {
   "cell_type": "markdown",
   "metadata": {},
   "source": [
    "### Using the decision criteria and the above p-value, I will not reject the null hypothsis. Thus, I can not say that there is any difference between male and female body temperatures"
   ]
  },
  {
   "cell_type": "code",
   "execution_count": null,
   "metadata": {},
   "outputs": [],
   "source": []
  }
 ],
 "metadata": {
  "anaconda-cloud": {},
  "kernelspec": {
   "display_name": "Python [default]",
   "language": "python",
   "name": "python2"
  },
  "language_info": {
   "codemirror_mode": {
    "name": "ipython",
    "version": 2
   },
   "file_extension": ".py",
   "mimetype": "text/x-python",
   "name": "python",
   "nbconvert_exporter": "python",
   "pygments_lexer": "ipython2",
   "version": "2.7.14"
  }
 },
 "nbformat": 4,
 "nbformat_minor": 1
}
