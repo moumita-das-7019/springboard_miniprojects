{
 "cells": [
  {
   "cell_type": "markdown",
   "metadata": {},
   "source": [
    "# This exercise explores the Mondial database (data source: http://www.dbis.informatik.uni-goettingen.de/Mondial) as an XML document"
   ]
  },
  {
   "cell_type": "markdown",
   "metadata": {},
   "source": [
    "### There are four objectives to this exercise\n",
    "1. Identify the 10 countries with the lowest infant mortality rates\n",
    "2. Identify the 10 cities with the largest population\n",
    "3. Identify the 10 ethnic groups with the largest overall populations (sum of best/latest estimates over all countries)\n",
    "4. The name and country of a) the longest river, b) the largest lake and c) the airport at highest elevation\n"
   ]
  },
  {
   "cell_type": "markdown",
   "metadata": {},
   "source": [
    "## Imports for working with xml documents"
   ]
  },
  {
   "cell_type": "code",
   "execution_count": 1,
   "metadata": {
    "collapsed": false
   },
   "outputs": [],
   "source": [
    "import pandas as pd\n",
    "from lxml import etree as ET\n",
    "import numpy as np"
   ]
  },
  {
   "cell_type": "code",
   "execution_count": 2,
   "metadata": {
    "collapsed": false
   },
   "outputs": [],
   "source": [
    "# use the etree library to parse the xml document into an element tree\n",
    "document = ET.parse( './data/mondial_database.xml' )\n",
    "\n",
    "# identify the root element in the xml document tree\n",
    "root = document.getroot()"
   ]
  },
  {
   "cell_type": "markdown",
   "metadata": {},
   "source": [
    "## The first three objectives require information that is assocated with the Country element. Therefore, I can loop through all of the country elements just once to answer questions 1-3."
   ]
  },
  {
   "cell_type": "code",
   "execution_count": 30,
   "metadata": {
    "collapsed": false
   },
   "outputs": [],
   "source": [
    "ethnic_dict = {}\n",
    "infant_mortalitys = []\n",
    "city_population = []\n",
    "\n",
    "# loops through the all of the country elements\n",
    "for elem in document.iterfind('country'): # Identfies the country's name and it's latest population \n",
    "    country_name = elem.find('name').text\n",
    "    country_population = float(elem.findall('population')[-1].text) # extracts the most recent population numbers\n",
    "    # loops through the each country's element and extracts the infant_mortality rate\n",
    "    for infant_mortality in elem.getiterator('infant_mortality'): # Identfies the country's infant mortality\n",
    "        mortality = infant_mortality.text \n",
    "        infant_mortalitys.append((country_name, float(mortality))) #Appends the country's name and infant mortality to a list\n",
    "    # loops through the each country's element and extracts the city name and most recent poplulation\n",
    "    for city in elem.getiterator('city'): #Identifies the city's population\n",
    "        city_name = city.find('name').text # extracts city name\n",
    "        if city.find(\"population\") is None:\n",
    "            city_pop = 0\n",
    "        else:\n",
    "            city_pop = float(city.findall(\"population\")[-1].text) # extracts most recent population\n",
    "        city_population.append((city_name, city_pop)) #Appends the city name and city population to a list\n",
    "\n",
    "    # loops through the each country's element and extracts ethnicity percentage\n",
    "    # uses country population to generate the number of people in each ethnicity\n",
    "    for ethnicity in elem.getiterator('ethnicgroup'): #Identifies the ethnic population in each country and sums then\n",
    "        ethnic_group = ethnicity.text\n",
    "        ethnic_group_percent = float(ethnicity.attrib['percentage'])\n",
    "        ethnic_group_value = country_population * ethnic_group_percent\n",
    "        if ethnic_group in ethnic_dict: # creates a dictionary with key= ethnic group, value = ethnic population\n",
    "            ethnic_dict[ethnic_group] = ethnic_dict[ethnic_group] + ethnic_group_value # sums the ethnic population of muliple countries\n",
    "        else:\n",
    "            ethnic_dict[ethnic_group] = ethnic_group_value # adds ethnich group population to dictionary, if it doesn't currently exist\n",
    "    \n",
    "\n",
    "    "
   ]
  },
  {
   "cell_type": "markdown",
   "metadata": {},
   "source": [
    "#### * 1. The 10 countries with the lowest infant mortality *"
   ]
  },
  {
   "cell_type": "code",
   "execution_count": 4,
   "metadata": {
    "collapsed": false
   },
   "outputs": [
    {
     "name": "stdout",
     "output_type": "stream",
     "text": [
      "Monaco\n",
      "Japan\n",
      "Norway\n",
      "Bermuda\n",
      "Singapore\n",
      "Sweden\n",
      "Czech Republic\n",
      "Hong Kong\n",
      "Macao\n",
      "Iceland\n"
     ]
    }
   ],
   "source": [
    "#loops through the list of city populations and print's the 10 largest cities names\n",
    "for x,y in sorted(infant_mortalitys, key=lambda x: x[1])[0:10]:\n",
    "    print(x)"
   ]
  },
  {
   "cell_type": "markdown",
   "metadata": {},
   "source": [
    "#### * 2. Identifies the 10 cities with the largest population*"
   ]
  },
  {
   "cell_type": "code",
   "execution_count": 5,
   "metadata": {
    "collapsed": false
   },
   "outputs": [
    {
     "name": "stdout",
     "output_type": "stream",
     "text": [
      "Komotini\n",
      "Kozani\n",
      "Ermoupoli\n",
      "Tripoli\n",
      "Mytilini\n",
      "Chalons en Champagne\n",
      "Toledo\n",
      "Merida\n",
      "Santiago de Compostela\n",
      "Bregenz\n"
     ]
    }
   ],
   "source": [
    "#loops through the list of city populations and print's the 10 largest cities names\n",
    "for x,y in sorted(city_population, key=lambda x: x[1])[0:10]:\n",
    "    print(x)"
   ]
  },
  {
   "cell_type": "markdown",
   "metadata": {},
   "source": [
    "#### * 3. Identifies the 10 ethnic groups with the largest overall populations*"
   ]
  },
  {
   "cell_type": "code",
   "execution_count": 6,
   "metadata": {
    "collapsed": false
   },
   "outputs": [
    {
     "name": "stdout",
     "output_type": "stream",
     "text": [
      "Han Chinese\n",
      "Indo-Aryan\n",
      "European\n",
      "African\n",
      "Dravidian\n",
      "Mestizo\n",
      "Bengali\n",
      "Russian\n",
      "Japanese\n",
      "Malay\n"
     ]
    }
   ],
   "source": [
    "#loops through the dictionary of ethnicities and their populations and print's the 10 largest ethnicities\n",
    "for x,y in sorted(ethnic_dict.items(), key=lambda x:x[1], reverse = True)[0:10] :\n",
    "    print(x)\n",
    "       "
   ]
  },
  {
   "cell_type": "markdown",
   "metadata": {},
   "source": [
    "#### * 4. Identifiy the name and country of a) longest river, b) largest lake and c) airport at highest elevation* "
   ]
  },
  {
   "cell_type": "markdown",
   "metadata": {
    "collapsed": true
   },
   "source": [
    "#### * a) The name and country of the longest river *"
   ]
  },
  {
   "cell_type": "markdown",
   "metadata": {},
   "source": [
    "#### My strategy for this question, was to first identify the longest river and the corresponding name, and country code"
   ]
  },
  {
   "cell_type": "code",
   "execution_count": 55,
   "metadata": {
    "collapsed": false
   },
   "outputs": [
    {
     "name": "stdout",
     "output_type": "stream",
     "text": [
      "6448.0 Amazonas CO BR PE\n"
     ]
    }
   ],
   "source": [
    "longest_river = 0\n",
    "country_name = None\n",
    "river_name = None\n",
    "# finds longest river, river name, and country codes\n",
    "for river in root.findall('river'): #loops through all river elements\n",
    "    if river.find('length') is None: # skips over empty elements\n",
    "        continue\n",
    "    \n",
    "    country_code = river.attrib['country'] # retrieves country code\n",
    "    R_name = river.find(\"name\").text # retrieves river name\n",
    "    R_length = float(river.find(\"length\").text) # retrieves river length, and converts it to float\n",
    "    # stores largest length and corresponding river name and country code in variables\n",
    "    if R_length > longest_river: \n",
    "        longest_river = R_length\n",
    "        country_name = country_code\n",
    "        river_name = R_name     \n",
    "\n",
    "# prints resulting variables   \n",
    "print(longest_river, river_name, country_name)  "
   ]
  },
  {
   "cell_type": "markdown",
   "metadata": {},
   "source": [
    "#### Since the river goes through multiple countries, I split the codes up into a list, and retrieved the names for all three countries"
   ]
  },
  {
   "cell_type": "code",
   "execution_count": 58,
   "metadata": {
    "collapsed": false
   },
   "outputs": [
    {
     "name": "stdout",
     "output_type": "stream",
     "text": [
      "['Colombia', 'Brazil', 'Peru']\n"
     ]
    }
   ],
   "source": [
    "expr = '//country[@car_code= $code]'\n",
    "name_lst = []\n",
    "for c_code in country_name.split():\n",
    "    name_lst.append(root.xpath(expr, code = c_code)[0].find('name').text)\n",
    "print(name_lst)"
   ]
  },
  {
   "cell_type": "code",
   "execution_count": 64,
   "metadata": {
    "collapsed": false
   },
   "outputs": [
    {
     "name": "stdout",
     "output_type": "stream",
     "text": [
      "Amazonas is the longest river and it flows through Colombia, Brazil, Peru\n"
     ]
    }
   ],
   "source": [
    "print( river_name + ' is the longest river and it flows through '  + ', '.join(name_lst) )"
   ]
  },
  {
   "cell_type": "markdown",
   "metadata": {},
   "source": [
    "#### I then realized that questions b and c could be solved in the same way, so I wrote a function that takes the kind of geographical thing you are looking for ( lake or airport) and the correponding scalar metric (area, elevation), and a function to convert country code(s) to name(s)"
   ]
  },
  {
   "cell_type": "code",
   "execution_count": 96,
   "metadata": {
    "collapsed": true
   },
   "outputs": [],
   "source": [
    "# general function(s)\n",
    "def x_of_kind(kind, scalar_type):\n",
    "    scalar_value = 0\n",
    "    country_name = None\n",
    "    kind_name = None\n",
    "    # finds scalar_type, x name, and country codes\n",
    "    for x in root.findall(kind): #loops through all kind elements\n",
    "        if x.find(scalar_type) is None: # skips over empty elements\n",
    "            continue\n",
    "        if x.find(scalar_type).text is None: # skips over empty elements\n",
    "            continue\n",
    "\n",
    "        country_code = x.attrib['country'] # retrieves country code\n",
    "        name = x.find(\"name\").text # retrieves name\n",
    "        kind_scalar = float(x.find(scalar_type).text) # retrieves scalar metric\n",
    "        # stores largest scalar value and corresponding name and country codes\n",
    "        if kind_scalar > scalar_value: \n",
    "            scalar_value = kind_scalar\n",
    "            country_name = country_code\n",
    "            kind_name = name\n",
    "    return (scalar_value, kind_name, country_name)\n",
    "\n",
    "def code_to_contry(string):\n",
    "    expr = '//country[@car_code= $code]'\n",
    "    name_lst = []\n",
    "    for c_code in string.split():\n",
    "        name_lst.append(root.xpath(expr, code = c_code)[0].find('name').text)\n",
    "    return name_lst"
   ]
  },
  {
   "cell_type": "markdown",
   "metadata": {},
   "source": [
    "#### * b) The name and country of the largest lake *"
   ]
  },
  {
   "cell_type": "code",
   "execution_count": 102,
   "metadata": {
    "collapsed": false
   },
   "outputs": [
    {
     "name": "stdout",
     "output_type": "stream",
     "text": [
      "The largest lake is the Caspian Sea, which is in Russia, Azerbaijan, Kazakhstan, Iran, Turkmenistan\n"
     ]
    }
   ],
   "source": [
    "answer_B = x_of_kind('lake', \"area\")\n",
    "names = code_to_contry(answer_B[2])\n",
    "print(\"The largest lake is the \"+ answer_B[1] + \", which is in \"+ ', '.join(names))"
   ]
  },
  {
   "cell_type": "markdown",
   "metadata": {},
   "source": [
    "#### * c) The name and country of the airport at the highest elevation *"
   ]
  },
  {
   "cell_type": "code",
   "execution_count": 101,
   "metadata": {
    "collapsed": false
   },
   "outputs": [
    {
     "name": "stdout",
     "output_type": "stream",
     "text": [
      "The highest airport is El Alto Intl, which is in Bolivia\n"
     ]
    }
   ],
   "source": [
    "answer_C = x_of_kind('airport', \"elevation\")\n",
    "names = code_to_contry(answer_C[2])\n",
    "print(\"The highest airport is \"+ answer_C[1] + \", which is in \"+ ', '.join(names))"
   ]
  },
  {
   "cell_type": "code",
   "execution_count": null,
   "metadata": {
    "collapsed": true
   },
   "outputs": [],
   "source": []
  }
 ],
 "metadata": {
  "anaconda-cloud": {},
  "kernelspec": {
   "display_name": "Python [conda env:py35]",
   "language": "python",
   "name": "conda-env-py35-py"
  },
  "language_info": {
   "codemirror_mode": {
    "name": "ipython",
    "version": 3
   },
   "file_extension": ".py",
   "mimetype": "text/x-python",
   "name": "python",
   "nbconvert_exporter": "python",
   "pygments_lexer": "ipython3",
   "version": "3.5.3"
  }
 },
 "nbformat": 4,
 "nbformat_minor": 2
}
