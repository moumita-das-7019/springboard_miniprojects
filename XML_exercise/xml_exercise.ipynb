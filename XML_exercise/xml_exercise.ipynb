{
 "cells": [
  {
   "cell_type": "code",
   "execution_count": 2,
   "metadata": {
    "collapsed": false
   },
   "outputs": [],
   "source": [
    "import pandas as pd\n",
    "from lxml import etree as ET\n",
    "import numpy as np"
   ]
  },
  {
   "cell_type": "code",
   "execution_count": 3,
   "metadata": {
    "collapsed": false
   },
   "outputs": [],
   "source": [
    "document = ET.parse( './data/mondial_database.xml' )\n",
    "root = document.getroot()"
   ]
  },
  {
   "cell_type": "code",
   "execution_count": 44,
   "metadata": {
    "collapsed": false
   },
   "outputs": [
    {
     "data": {
      "text/plain": [
       "[('Han Chinese', 124505880000.0),\n",
       " ('Indo-Aryan', 87181558344.0),\n",
       " ('European', 49487221971.96),\n",
       " ('African', 31832512036.9),\n",
       " ('Dravidian', 30271374425.0),\n",
       " ('Mestizo', 15773435493.7),\n",
       " ('Bengali', 14677691672.0),\n",
       " ('Russian', 13185699607.699999),\n",
       " ('Japanese', 12653421200.0),\n",
       " ('Malay', 12199355037.4)]"
      ]
     },
     "execution_count": 44,
     "metadata": {},
     "output_type": "execute_result"
    }
   ],
   "source": [
    "ethnic_dict = {}\n",
    "infant_mortalitys = []\n",
    "city_population = []\n",
    "for elem in document.iterfind('country'):\n",
    "    country_name = elem.find('name').text\n",
    "    country_population = float(elem.findall('population')[-1].text)\n",
    "    for infant_mortality in elem.getiterator('infant_mortality'):\n",
    "        mortality = infant_mortality.text\n",
    "        infant_mortalitys.append((country_name, float(mortality)))\n",
    "        \n",
    "    for city in elem.getiterator('city'):\n",
    "        city_name = city.find('name').text\n",
    "        try:\n",
    "            city_pop = float(city.find('population').text)\n",
    "        \n",
    "        except AttributeError:\n",
    "            city_pop = False\n",
    "        city_population.append((city_name, city_pop ))\n",
    "        \n",
    "    for ethnicity in elem.getiterator('ethnicgroup'):\n",
    "        ethnic_group = ethnicity.text\n",
    "        ethnic_group_percent = float(ethnicity.attrib['percentage'])\n",
    "        ethnic_group_value = country_population * ethnic_group_percent\n",
    "        if ethnic_group in ethnic_dict:\n",
    "            ethnic_dict[ethnic_group] = ethnic_dict[ethnic_group] + ethnic_group_value\n",
    "        else:\n",
    "            ethnic_dict[ethnic_group] = ethnic_group_value\n",
    "    \n",
    "      \n",
    "sorted(infant_mortality, key=lambda x: x[1])[0:10]\n",
    "sorted(city_population, key=lambda x: x[1], reverse = True)[0:10]\n",
    "sorted(ethnic_dict.items(), key=lambda x:x[1], reverse = True)[0:10]  "
   ]
  },
  {
   "cell_type": "code",
   "execution_count": null,
   "metadata": {
    "collapsed": true
   },
   "outputs": [],
   "source": []
  }
 ],
 "metadata": {
  "anaconda-cloud": {},
  "kernelspec": {
   "display_name": "Python [conda env:py35]",
   "language": "python",
   "name": "conda-env-py35-py"
  },
  "language_info": {
   "codemirror_mode": {
    "name": "ipython",
    "version": 3
   },
   "file_extension": ".py",
   "mimetype": "text/x-python",
   "name": "python",
   "nbconvert_exporter": "python",
   "pygments_lexer": "ipython3",
   "version": "3.5.3"
  }
 },
 "nbformat": 4,
 "nbformat_minor": 2
}
