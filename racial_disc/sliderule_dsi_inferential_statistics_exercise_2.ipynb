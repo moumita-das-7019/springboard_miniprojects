{
 "cells": [
  {
   "cell_type": "markdown",
   "metadata": {},
   "source": [
    "# Examining Racial Discrimination in the US Job Market\n",
    "\n",
    "### Background\n",
    "Racial discrimination continues to be pervasive in cultures throughout the world. Researchers examined the level of racial discrimination in the United States labor market by randomly assigning identical résumés to black-sounding or white-sounding names and observing the impact on requests for interviews from employers.\n",
    "\n",
    "### Data\n",
    "In the dataset provided, each row represents a resume. The 'race' column has two values, 'b' and 'w', indicating black-sounding and white-sounding. The column 'call' has two values, 1 and 0, indicating whether the resume received a call from employers or not.\n",
    "\n",
    "Note that the 'b' and 'w' values in race are assigned randomly to the resumes when presented to the employer."
   ]
  },
  {
   "cell_type": "markdown",
   "metadata": {},
   "source": [
    "### Exercises\n",
    "You will perform a statistical analysis to establish whether race has a significant impact on the rate of callbacks for resumes.\n",
    "\n",
    "Answer the following questions **in this notebook below and submit to your Github account**. \n",
    "\n",
    "   1. What test is appropriate for this problem? Does CLT apply?\n",
    "   2. What are the null and alternate hypotheses?\n",
    "   3. Compute margin of error, confidence interval, and p-value.\n",
    "   4. Write a story describing the statistical significance in the context or the original problem.\n",
    "   5. Does your analysis mean that race/name is the most important factor in callback success? Why or why not? If not, how would you amend your analysis?\n",
    "\n",
    "You can include written notes in notebook cells using Markdown: \n",
    "   - In the control panel at the top, choose Cell > Cell Type > Markdown\n",
    "   - Markdown syntax: http://nestacms.com/docs/creating-content/markdown-cheat-sheet\n",
    "\n",
    "\n",
    "#### Resources\n",
    "+ Experiment information and data source: http://www.povertyactionlab.org/evaluation/discrimination-job-market-united-states\n",
    "+ Scipy statistical methods: http://docs.scipy.org/doc/scipy/reference/stats.html \n",
    "+ Markdown syntax: http://nestacms.com/docs/creating-content/markdown-cheat-sheet\n",
    "****"
   ]
  },
  {
   "cell_type": "code",
   "execution_count": 1,
   "metadata": {},
   "outputs": [],
   "source": [
    "# imports\n",
    "import pandas as pd\n",
    "import numpy as np\n",
    "from scipy import stats"
   ]
  },
  {
   "cell_type": "code",
   "execution_count": 2,
   "metadata": {},
   "outputs": [],
   "source": [
    "# data source described above\n",
    "data = pd.io.stata.read_stata('data/us_job_market_discrimination.dta')"
   ]
  },
  {
   "cell_type": "markdown",
   "metadata": {},
   "source": [
    "### Data methodology considerations\n",
    "#### This experiment's design was through but still, has limitations. Since the race is only suggested (in the form of a stereotypical name) and not outright stated, it is not known if each potential employer makes a racial assumption based on applicants name.  Also, only the areas of Boston and Chicago were sent the fake job applications. Both of these cities are large US cities, with relatively high racial diversity compared to smaller US cities and both of are in the Northern US. Any results gained from this data may not be representative of large Southern or Western US cities or smaller cities.  They also only tested four occupational categories, which further limits the scope of the study. Additionally, all job ads were found exclusively in Sunday newspapers of one newspaper for each city.  How this might affect the study is not known, but some problems that might occur are as follows:\n",
    "* Employer company/person must be large(profitable) enough to afford ads in major newspaper\n",
    "* May introduce age/generational bias, as companies run by older generation may be more inclined to advertise in a newspaper instead of online\n",
    "    "
   ]
  },
  {
   "cell_type": "markdown",
   "metadata": {},
   "source": [
    "#### One of the first things to look at is there any difference between the number of call-backs for white and black sounding names"
   ]
  },
  {
   "cell_type": "code",
   "execution_count": 3,
   "metadata": {},
   "outputs": [
    {
     "name": "stdout",
     "output_type": "stream",
     "text": [
      "Black-sounding names 157.0\n",
      "White-sounding names 235.0\n"
     ]
    }
   ],
   "source": [
    "# number of callbacks for black and white-sounding names\n",
    "print('Black-sounding names ' + str(sum(data[data.race=='b'].call)))\n",
    "print('White-sounding names ' + str(sum(data[data.race=='w'].call)))"
   ]
  },
  {
   "cell_type": "markdown",
   "metadata": {},
   "source": [
    "#### It is quite obvious from the above information that there is indeed a difference between call-backs and the applicant's name.  However, it is still unknown if that difference is significant or due to random happenstance."
   ]
  },
  {
   "cell_type": "markdown",
   "metadata": {},
   "source": [
    "#### In order to determine if there is a significant difference in call backs between black and white sounding names I will split the data into two different sets with only the race and call columns"
   ]
  },
  {
   "cell_type": "code",
   "execution_count": 6,
   "metadata": {},
   "outputs": [],
   "source": [
    "black_callbacks = data[['race', 'call']][data.race == 'b']\n",
    "white_callbacks = data[['race', 'call']][data.race == 'w']"
   ]
  },
  {
   "cell_type": "markdown",
   "metadata": {},
   "source": [
    "#### Considering that a call back has a yes/no outcome, it is reasonable to use probability proportions"
   ]
  },
  {
   "cell_type": "code",
   "execution_count": 18,
   "metadata": {},
   "outputs": [
    {
     "name": "stdout",
     "output_type": "stream",
     "text": [
      "The probability of getting a callback when you are white 0.59949\n",
      "The probability of getting a callback when you are black 0.40051\n"
     ]
    }
   ],
   "source": [
    "# the probability of getting a callback for a black sounding name\n",
    "p_black_callbacks = black_callbacks.call.sum()/np.sum(data.call)\n",
    "p_white_callbacks = white_callbacks.call.sum()/np.sum(data.call)\n",
    "print('The probability of getting a callback when you are white ' + str(p_white_callbacks))\n",
    "print('The probability of getting a callback when you are black ' + str(p_black_callbacks))"
   ]
  },
  {
   "cell_type": "markdown",
   "metadata": {},
   "source": [
    "#### In order to determine if the difference in probability is random, I will use hypothesis testing.  \n",
    "###### Null hypothesis: There is no difference between the probability of getting a callback for white and black sounding names\n",
    "p_white_callbacks = p_black_callbacks\n",
    "###### Alternate hypothesis: The probability of a white sounding name getting a call back is greater than the probability of a black sounding name getting a call back\n",
    "p_white_callbacks >= p_black_callbacks\n",
    "\n",
    "This hypothesis can be tested using a one-tailed  Z-test, with 95% confidence\n",
    "* the critical value of a one-tailed Z-test with 95% confidence is 1.645, so any z-test statistic equal or greater than that is significant\n",
    "* a Z-test can be used because both positive (np >= 10) and negative (n(1-p)>=10) sampling conditions are true"
   ]
  },
  {
   "cell_type": "code",
   "execution_count": 31,
   "metadata": {},
   "outputs": [
    {
     "name": "stdout",
     "output_type": "stream",
     "text": [
      "Assuming the null hypthesis is true, Z-test statistic = 25.5203694243\n"
     ]
    }
   ],
   "source": [
    "# calculate the Z-test statistic\n",
    "p_of_callback = np.sum(data.call)/float(len(data.call))\n",
    "p_of_callback\n",
    "z = (p_white_callbacks - p_black_callbacks)/np.sqrt(p_of_callback*(1.-p_of_callback)*((1./len(white_callbacks.call))+(1./len(black_callbacks.call))))\n",
    "print('Assuming the null hypthesis is true, Z-test statistic = ' + str(z))"
   ]
  },
  {
   "cell_type": "markdown",
   "metadata": {},
   "source": [
    "# The z-test statistic is much greater than the critical value, thus I must reject the null hypothsis.  The probability of getting a callback from a job application is NOT equal for white and black sounding names."
   ]
  },
  {
   "cell_type": "code",
   "execution_count": null,
   "metadata": {},
   "outputs": [],
   "source": []
  }
 ],
 "metadata": {
  "anaconda-cloud": {},
  "kernelspec": {
   "display_name": "Python [default]",
   "language": "python",
   "name": "python2"
  },
  "language_info": {
   "codemirror_mode": {
    "name": "ipython",
    "version": 2
   },
   "file_extension": ".py",
   "mimetype": "text/x-python",
   "name": "python",
   "nbconvert_exporter": "python",
   "pygments_lexer": "ipython2",
   "version": "2.7.14"
  }
 },
 "nbformat": 4,
 "nbformat_minor": 1
}
